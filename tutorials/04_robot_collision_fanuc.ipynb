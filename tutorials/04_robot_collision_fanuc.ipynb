{
 "cells": [
  {
   "cell_type": "markdown",
   "metadata": {},
   "source": [
    "# Collision tutorial\n",
    "\n",
    "we'll demonstrate self collision on a sawyer robot\n",
    "\n",
    "You can see that arm of the sawyer robot collide with milk object."
   ]
  },
  {
   "cell_type": "markdown",
   "metadata": {},
   "source": [
    "## Setup\n",
    "If you want to check robot's collision, install python-fcl \n",
    "\n",
    "And then, import CollisionManager"
   ]
  },
  {
   "cell_type": "code",
   "execution_count": 1,
   "metadata": {},
   "outputs": [],
   "source": [
    "import numpy as np\n",
    "import trimesh\n",
    "import os\n",
    "\n",
    "from pykin.robots.single_arm import SingleArm\n",
    "from pykin.kinematics.transform import Transform\n",
    "from pykin.collision.collision_manager import CollisionManager\n",
    "from pykin.utils.kin_utils import apply_robot_to_scene\n",
    "from pykin.utils.kin_utils import ShellColors as sc"
   ]
  },
  {
   "cell_type": "code",
   "execution_count": 2,
   "metadata": {},
   "outputs": [],
   "source": [
    "file_path = 'urdf/fanuc/fanuc_r2000ic_165f.urdf'\n",
    "robot = SingleArm(file_path, Transform(rot=[0.0, 0.0, 0.0], pos=[0, 0, 0]))\n",
    "robot.setup_link_name(\"base_link\", \"link_6\")"
   ]
  },
  {
   "cell_type": "markdown",
   "metadata": {},
   "source": [
    "## Use CollisionManager"
   ]
  },
  {
   "cell_type": "markdown",
   "metadata": {},
   "source": [
    "Create robot's collision manager using CollisionManager\n",
    "\n",
    "And check self collision"
   ]
  },
  {
   "cell_type": "code",
   "execution_count": 3,
   "metadata": {},
   "outputs": [
    {
     "name": "stdout",
     "output_type": "stream",
     "text": [
      "******************** \u001b[92mRobot Collision Info\u001b[0m ********************\n",
      "base_link [0. 0. 0.]\n",
      "link_1 [0. 0. 0.]\n",
      "link_2 [0.31200001 0.         0.67000002]\n",
      "link_3 [0.31200001 0.         1.745     ]\n",
      "link_4 [0.31200001 0.         1.97000003]\n",
      "link_5 [1.59200001 0.         1.97000003]\n",
      "link_6 [1.80700004 0.         1.97000003]\n",
      "***************************************************************\n",
      "\n"
     ]
    }
   ],
   "source": [
    "c_manager = CollisionManager(is_robot=True)\n",
    "c_manager.setup_robot_collision(robot, geom=\"visual\")\n",
    "c_manager.show_collision_info()\n",
    "\n",
    "goal_qpos = np.array([0, 0, 0, 0, 0, 0])\n",
    "robot.set_transform(goal_qpos)"
   ]
  },
  {
   "cell_type": "code",
   "execution_count": 8,
   "metadata": {},
   "outputs": [
    {
     "data": {
      "text/plain": [
       "'milk1'"
      ]
     },
     "execution_count": 8,
     "metadata": {},
     "output_type": "execute_result"
    }
   ],
   "source": [
    "for link, info in robot.info[c_manager.geom].items():\n",
    "    if link in c_manager._objs:\n",
    "        c_manager.set_transform(name=link, h_mat=info[3])\n",
    "\n",
    "current_file_path = os.path.abspath('')\n",
    "milk_path = current_file_path + \"/../pykin/assets/objects/meshes/milk.stl\"\n",
    "test_mesh = trimesh.load_mesh(milk_path)\n",
    "\n",
    "o_manager = CollisionManager()\n",
    "o_manager.add_object(\"milk1\", gtype=\"mesh\", gparam=test_mesh, h_mat=Transform(pos=[1.8, 0, 2.0]).h_mat)\n",
    "# o_manager.add_object(\"milk2\", gtype=\"mesh\", gparam=test_mesh, h_mat=Transform(pos=[0.4, 0, 0.4]).h_mat)\n",
    "\n",
    "scene = trimesh.Scene()\n",
    "scene = apply_robot_to_scene(trimesh_scene=scene, robot=robot, geom=c_manager.geom)\n",
    "# scene.set_camera(np.array([np.pi/2, 0, np.pi/2]), 5, resolution=(1024, 512))\n",
    "\n",
    "scene.add_geometry(test_mesh, node_name=\"milk1\", transform=Transform(pos=[1.8, 0, 2.0]).h_mat)\n",
    "# scene.add_geometry(test_mesh, node_name=\"milk2\", transform=Transform(pos=[0.4, 0, 0.4]).h_mat)"
   ]
  },
  {
   "cell_type": "markdown",
   "metadata": {},
   "source": [
    "Check collision between robot and objects"
   ]
  },
  {
   "cell_type": "code",
   "execution_count": 9,
   "metadata": {},
   "outputs": [
    {
     "name": "stdout",
     "output_type": "stream",
     "text": [
      "\u001b[91mCollide!! \u001b[0mlink_6 and milk1\n"
     ]
    },
    {
     "data": {
      "text/plain": [
       "SceneViewer(width=1800, height=1350)"
      ]
     },
     "execution_count": 9,
     "metadata": {},
     "output_type": "execute_result"
    }
   ],
   "source": [
    "result, name = c_manager.in_collision_other(o_manager, return_names=True)\n",
    "\n",
    "if result:\n",
    "    print(f\"{sc.FAIL}Collide!! {sc.ENDC}{list(name)[0][0]} and {list(name)[0][1]}\")\n",
    "scene.show(viewer='gl')"
   ]
  },
  {
   "cell_type": "code",
   "execution_count": null,
   "metadata": {},
   "outputs": [],
   "source": []
  }
 ],
 "metadata": {
  "interpreter": {
   "hash": "b20081bdc287ac2c1d69003683d35ecf982ea0bab41dbbd316fa020b393ed781"
  },
  "kernelspec": {
   "display_name": "Python 3.6.13 64-bit ('pykdl_py_3.6': conda)",
   "name": "python3"
  },
  "language_info": {
   "codemirror_mode": {
    "name": "ipython",
    "version": 3
   },
   "file_extension": ".py",
   "mimetype": "text/x-python",
   "name": "python",
   "nbconvert_exporter": "python",
   "pygments_lexer": "ipython3",
   "version": "3.9.20"
  },
  "orig_nbformat": 4
 },
 "nbformat": 4,
 "nbformat_minor": 2
}
